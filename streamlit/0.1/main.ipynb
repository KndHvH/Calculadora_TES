{
  "cells": [
    {
      "cell_type": "markdown",
      "source": [
        "# Instalando as bibliotecas\n"
      ],
      "metadata": {
        "collapsed": false,
        "id": "dcg_pCayGRwY"
      }
    },
    {
      "cell_type": "code",
      "execution_count": null,
      "metadata": {
        "collapsed": true,
        "id": "Ey4SSeU68K2A"
      },
      "outputs": [],
      "source": [
        "!pip install -q pyngrok\n",
        "!pip install -q streamlit\n",
        "!pip install -q streamlit_ace\n",
        "!pip install fuzzywuzzy[speedup]"
      ]
    },
    {
      "cell_type": "code",
      "execution_count": null,
      "outputs": [],
      "source": [
        "!streamlit run app.py & > / dev / null &"
      ],
      "metadata": {
        "pycharm": {
          "name": "#%%\n"
        },
        "id": "M792SOaaGRwc"
      }
    },
    {
      "cell_type": "markdown",
      "source": [
        "# Codigo app.py"
      ],
      "metadata": {
        "collapsed": false,
        "id": "pZ-nrx_SGRwd"
      }
    },
    {
      "cell_type": "code",
      "source": [
        "%%writefile app.py\n",
        "\n",
        "import streamlit as st\n",
        "import requests as req\n",
        "import re\n",
        "from fuzzywuzzy import process\n",
        "from fuzzywuzzy import fuzz\n",
        "from pyngrok import ngrok\n",
        "\n",
        "def main():\n",
        "    html_temp = \"\"\" <div style =\"background-color:blue;padding:13px\">\n",
        "                      <h1 style = \"color:white;text-align:center;\">Ferramentas Comerciais</h1>\n",
        "                    </dic>\n",
        "                \"\"\"\n",
        "\n",
        "    st.markdown(html_temp, unsafe_allow_html = True)\n",
        "\n",
        "    # começo calc tes\n",
        "    tes = 'test'\n",
        "    st.header('Calculadora TES')\n",
        "\n",
        "    opcoes = ['Selecione a Operação',\"Venda Normal\",\"Amostra\",\"Doação\",\"Entrega futura de venda\",\n",
        "              \"Entrega futura Remessa\",\"Demonstração\",\"Saida Troca\",\n",
        "              \"Venda por conta e ordem\",\"Simples remessa\"]\n",
        "\n",
        "    checkbox = st.selectbox('',opcoes)\n",
        "\n",
        "    operacao = numero_operacao(checkbox)\n",
        "    \n",
        "    if operacao != 0:\n",
        "      \n",
        "      if operacao == 9:\n",
        "        tes = 521\n",
        "      elif operacao == 6:\n",
        "        a = st.checkbox('Produto para Demonstração em evento')\n",
        "        if a:\n",
        "          tes = 955\n",
        "        else:\n",
        "          tes = 956\n",
        "      elif operacao == 2:\n",
        "        tes = 527\n",
        "      else:\n",
        "        ipi = st.checkbox(\"Produto Com IPI\",value=False,)\n",
        "\n",
        "        if operacao == 4:\n",
        "          if ipi:\n",
        "            tes = 505\n",
        "          else:\n",
        "            tes = 537\n",
        "        elif operacao == 8:\n",
        "          if ipi:\n",
        "            tes =  522\n",
        "          else:\n",
        "            tes = 540\n",
        "        else:\n",
        "          estado = st.checkbox(\"O cliente é de SP\",value=False,)\n",
        "\n",
        "          cnpj = st.checkbox(\"O cliente é pessoa juridica\",value=False)\n",
        "\n",
        "          contribuinte = False\n",
        "\n",
        "          if cnpj:\n",
        "            contribuinte = st.checkbox(\"O cliente é contribuinte\",value=False)\n",
        "\n",
        "          lado = lado_tabela(estado,contribuinte)\n",
        "\n",
        "          if operacao == 5:\n",
        "            if lado == 'a':\n",
        "                tes = 504\n",
        "            else:\n",
        "                tes = 949\n",
        "          else:\n",
        "            if cnpj:\n",
        "              choice = st.number_input('Digite a origem do Produto:',min_value=1,max_value=6,value=1,step=5)\n",
        "            if estado:\n",
        "              options = ('Nenhum dos dois','Fapesp','FFM')\n",
        "              radio = st.radio('Cliente é Fapesp ou FFM?', options, index=0)\n",
        "\n",
        "              fund = fs(radio)\n",
        "\n",
        "            if operacao == 1:\n",
        "              if lado == 'a':\n",
        "                if fund == 1 and choice == 6:\n",
        "                    if ipi:\n",
        "                        tes = 554\n",
        "                    else:\n",
        "                        tes = 533\n",
        "                elif fund == 2:\n",
        "                    if ipi:\n",
        "                        tes = 565\n",
        "                    else:\n",
        "                        tes = 560\n",
        "                elif ipi:\n",
        "                    tes = 501\n",
        "                else:\n",
        "                    tes = 535\n",
        "              else:\n",
        "                if ipi:\n",
        "                    tes =  948\n",
        "                else:\n",
        "                    tes =  947\n",
        "            elif operacao == 3:\n",
        "              if lado == 'a':\n",
        "                  if fs == 2:\n",
        "                      tes =  928\n",
        "                  elif ipi:\n",
        "                      tes =  924\n",
        "                  else:\n",
        "                      tes =  925\n",
        "              else:\n",
        "                  if ipi:\n",
        "                      tes =  951\n",
        "                  else:\n",
        "                      tes =  950\n",
        "            else:\n",
        "              if fs==1 and origem==1:\n",
        "                  return 544\n",
        "\n",
        "              if ipi == 0:\n",
        "                  if fs == 2 or (fs==1 and origem==6):\n",
        "                      return 550\n",
        "                  return 900\n",
        "\n",
        "              else:\n",
        "                  if fs == 2:\n",
        "                      555\n",
        "                  else:\n",
        "                      544\n",
        "\n",
        "\n",
        "\n",
        "      if st.button(\"Verificar\"):\n",
        "        b = f'TES: {tes}'\n",
        "        st.info(b)\n",
        "        #final calc tes\n",
        "\n",
        "\n",
        "\n",
        "#inicio funcoes calc tes\n",
        "\n",
        "def fs(radio):\n",
        "  if radio == 'Fapesp':\n",
        "    return 1\n",
        "  elif radio == 'FFM':\n",
        "    return 2\n",
        "  return 0\n",
        "\n",
        "def lado_tabela(sp, contr):\n",
        "    if sp or contr:\n",
        "        return 'a'\n",
        "    return 'b'\n",
        "\n",
        "\n",
        "def numero_operacao(txt):\n",
        "  if txt == 'Selecione a Operação':\n",
        "    x = 0\n",
        "  elif txt == 'Venda Normal':\n",
        "    x = 1\n",
        "  elif txt == 'Amostra':\n",
        "    x = 2\n",
        "  elif txt == 'Doação':\n",
        "    x = 3\n",
        "  elif txt == 'Entrega futura de venda':\n",
        "    x = 4\n",
        "  elif txt == 'Entrega futura Remessa':\n",
        "    x = 5\n",
        "  elif txt == 'Demonstração':\n",
        "    x = 6\n",
        "  elif txt == 'Saida Troca':\n",
        "    x = 7\n",
        "  elif txt == 'Venda por conta e ordem':\n",
        "    x = 8\n",
        "  elif txt == 'Simples remessa':\n",
        "    x = 9\n",
        "  return x\n",
        "  \n",
        "\n",
        "\n",
        "  #final funcoes calc tes\n",
        "\n",
        "\n",
        "\n",
        "\n",
        "\n",
        "\n",
        "\n",
        "\n",
        "\n",
        "if __name__ == '__main__':\n",
        "    main()"
      ],
      "metadata": {
        "id": "GjEKnPwr8bts",
        "outputId": "e313d619-1c48-4f22-d031-35106a2e309e",
        "colab": {
          "base_uri": "https://localhost:8080/"
        }
      },
      "execution_count": 38,
      "outputs": [
        {
          "output_type": "stream",
          "name": "stdout",
          "text": [
            "Overwriting app.py\n"
          ]
        }
      ]
    },
    {
      "cell_type": "code",
      "source": [
        "!streamlit run app.py & npx localtunnel --port 8501"
      ],
      "metadata": {
        "id": "jMLGHpSi8eVD",
        "pycharm": {
          "name": "#%%\n"
        },
        "colab": {
          "base_uri": "https://localhost:8080/"
        },
        "outputId": "79ffadac-2f9a-430b-b851-6fde716c8585"
      },
      "execution_count": 39,
      "outputs": [
        {
          "output_type": "stream",
          "name": "stdout",
          "text": [
            "2022-05-05 23:01:49.567 INFO    numexpr.utils: NumExpr defaulting to 2 threads.\n",
            "\u001b[0m\n",
            "\u001b[34m\u001b[1m  You can now view your Streamlit app in your browser.\u001b[0m\n",
            "\u001b[0m\n",
            "\u001b[34m  Network URL: \u001b[0m\u001b[1mhttp://172.28.0.2:8501\u001b[0m\n",
            "\u001b[34m  External URL: \u001b[0m\u001b[1mhttp://34.74.244.13:8501\u001b[0m\n",
            "\u001b[0m\n",
            "\u001b[K\u001b[?25hnpx: installed 22 in 3.047s\n",
            "your url is: https://flat-clocks-teach-34-74-244-13.loca.lt\n",
            "\u001b[34m  Stopping...\u001b[0m\n",
            "^C\n"
          ]
        }
      ]
    }
  ],
  "metadata": {
    "kernelspec": {
      "display_name": "Python 3",
      "language": "python",
      "name": "python3"
    },
    "language_info": {
      "codemirror_mode": {
        "name": "ipython",
        "version": 2
      },
      "file_extension": ".py",
      "mimetype": "text/x-python",
      "name": "python",
      "nbconvert_exporter": "python",
      "pygments_lexer": "ipython2",
      "version": "2.7.6"
    },
    "colab": {
      "name": "main.ipynb",
      "provenance": []
    }
  },
  "nbformat": 4,
  "nbformat_minor": 0
}