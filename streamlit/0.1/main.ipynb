{
  "cells": [
    {
      "cell_type": "markdown",
      "metadata": {
        "id": "view-in-github",
        "colab_type": "text"
      },
      "source": [
        "<a href=\"https://colab.research.google.com/github/KndHvH/Calculadora_TES/blob/main/streamlit/0.1/main.ipynb\" target=\"_parent\"><img src=\"https://colab.research.google.com/assets/colab-badge.svg\" alt=\"Open In Colab\"/></a>"
      ]
    },
    {
      "cell_type": "markdown",
      "source": [
        "# Instalando as bibliotecas\n"
      ],
      "metadata": {
        "collapsed": false,
        "id": "dcg_pCayGRwY"
      }
    },
    {
      "cell_type": "code",
      "execution_count": 1,
      "metadata": {
        "collapsed": true,
        "id": "Ey4SSeU68K2A",
        "colab": {
          "base_uri": "https://localhost:8080/"
        },
        "outputId": "57fa1617-15db-4d29-bdce-62a7fe838cfd"
      },
      "outputs": [
        {
          "output_type": "stream",
          "name": "stdout",
          "text": [
            "\u001b[?25l\r\u001b[K     |▍                               | 10 kB 14.4 MB/s eta 0:00:01\r\u001b[K     |▉                               | 20 kB 15.5 MB/s eta 0:00:01\r\u001b[K     |█▎                              | 30 kB 10.3 MB/s eta 0:00:01\r\u001b[K     |█▊                              | 40 kB 8.4 MB/s eta 0:00:01\r\u001b[K     |██▏                             | 51 kB 4.6 MB/s eta 0:00:01\r\u001b[K     |██▋                             | 61 kB 5.4 MB/s eta 0:00:01\r\u001b[K     |███                             | 71 kB 5.5 MB/s eta 0:00:01\r\u001b[K     |███▌                            | 81 kB 4.2 MB/s eta 0:00:01\r\u001b[K     |████                            | 92 kB 4.7 MB/s eta 0:00:01\r\u001b[K     |████▍                           | 102 kB 5.1 MB/s eta 0:00:01\r\u001b[K     |████▉                           | 112 kB 5.1 MB/s eta 0:00:01\r\u001b[K     |█████▎                          | 122 kB 5.1 MB/s eta 0:00:01\r\u001b[K     |█████▊                          | 133 kB 5.1 MB/s eta 0:00:01\r\u001b[K     |██████▏                         | 143 kB 5.1 MB/s eta 0:00:01\r\u001b[K     |██████▋                         | 153 kB 5.1 MB/s eta 0:00:01\r\u001b[K     |███████                         | 163 kB 5.1 MB/s eta 0:00:01\r\u001b[K     |███████▌                        | 174 kB 5.1 MB/s eta 0:00:01\r\u001b[K     |████████                        | 184 kB 5.1 MB/s eta 0:00:01\r\u001b[K     |████████▍                       | 194 kB 5.1 MB/s eta 0:00:01\r\u001b[K     |████████▉                       | 204 kB 5.1 MB/s eta 0:00:01\r\u001b[K     |█████████▎                      | 215 kB 5.1 MB/s eta 0:00:01\r\u001b[K     |█████████▊                      | 225 kB 5.1 MB/s eta 0:00:01\r\u001b[K     |██████████▏                     | 235 kB 5.1 MB/s eta 0:00:01\r\u001b[K     |██████████▌                     | 245 kB 5.1 MB/s eta 0:00:01\r\u001b[K     |███████████                     | 256 kB 5.1 MB/s eta 0:00:01\r\u001b[K     |███████████▍                    | 266 kB 5.1 MB/s eta 0:00:01\r\u001b[K     |███████████▉                    | 276 kB 5.1 MB/s eta 0:00:01\r\u001b[K     |████████████▎                   | 286 kB 5.1 MB/s eta 0:00:01\r\u001b[K     |████████████▊                   | 296 kB 5.1 MB/s eta 0:00:01\r\u001b[K     |█████████████▏                  | 307 kB 5.1 MB/s eta 0:00:01\r\u001b[K     |█████████████▋                  | 317 kB 5.1 MB/s eta 0:00:01\r\u001b[K     |██████████████                  | 327 kB 5.1 MB/s eta 0:00:01\r\u001b[K     |██████████████▌                 | 337 kB 5.1 MB/s eta 0:00:01\r\u001b[K     |███████████████                 | 348 kB 5.1 MB/s eta 0:00:01\r\u001b[K     |███████████████▍                | 358 kB 5.1 MB/s eta 0:00:01\r\u001b[K     |███████████████▉                | 368 kB 5.1 MB/s eta 0:00:01\r\u001b[K     |████████████████▎               | 378 kB 5.1 MB/s eta 0:00:01\r\u001b[K     |████████████████▊               | 389 kB 5.1 MB/s eta 0:00:01\r\u001b[K     |█████████████████▏              | 399 kB 5.1 MB/s eta 0:00:01\r\u001b[K     |█████████████████▋              | 409 kB 5.1 MB/s eta 0:00:01\r\u001b[K     |██████████████████              | 419 kB 5.1 MB/s eta 0:00:01\r\u001b[K     |██████████████████▌             | 430 kB 5.1 MB/s eta 0:00:01\r\u001b[K     |███████████████████             | 440 kB 5.1 MB/s eta 0:00:01\r\u001b[K     |███████████████████▍            | 450 kB 5.1 MB/s eta 0:00:01\r\u001b[K     |███████████████████▉            | 460 kB 5.1 MB/s eta 0:00:01\r\u001b[K     |████████████████████▎           | 471 kB 5.1 MB/s eta 0:00:01\r\u001b[K     |████████████████████▋           | 481 kB 5.1 MB/s eta 0:00:01\r\u001b[K     |█████████████████████           | 491 kB 5.1 MB/s eta 0:00:01\r\u001b[K     |█████████████████████▌          | 501 kB 5.1 MB/s eta 0:00:01\r\u001b[K     |██████████████████████          | 512 kB 5.1 MB/s eta 0:00:01\r\u001b[K     |██████████████████████▍         | 522 kB 5.1 MB/s eta 0:00:01\r\u001b[K     |██████████████████████▉         | 532 kB 5.1 MB/s eta 0:00:01\r\u001b[K     |███████████████████████▎        | 542 kB 5.1 MB/s eta 0:00:01\r\u001b[K     |███████████████████████▊        | 552 kB 5.1 MB/s eta 0:00:01\r\u001b[K     |████████████████████████▏       | 563 kB 5.1 MB/s eta 0:00:01\r\u001b[K     |████████████████████████▋       | 573 kB 5.1 MB/s eta 0:00:01\r\u001b[K     |█████████████████████████       | 583 kB 5.1 MB/s eta 0:00:01\r\u001b[K     |█████████████████████████▌      | 593 kB 5.1 MB/s eta 0:00:01\r\u001b[K     |██████████████████████████      | 604 kB 5.1 MB/s eta 0:00:01\r\u001b[K     |██████████████████████████▍     | 614 kB 5.1 MB/s eta 0:00:01\r\u001b[K     |██████████████████████████▉     | 624 kB 5.1 MB/s eta 0:00:01\r\u001b[K     |███████████████████████████▎    | 634 kB 5.1 MB/s eta 0:00:01\r\u001b[K     |███████████████████████████▊    | 645 kB 5.1 MB/s eta 0:00:01\r\u001b[K     |████████████████████████████▏   | 655 kB 5.1 MB/s eta 0:00:01\r\u001b[K     |████████████████████████████▋   | 665 kB 5.1 MB/s eta 0:00:01\r\u001b[K     |█████████████████████████████   | 675 kB 5.1 MB/s eta 0:00:01\r\u001b[K     |█████████████████████████████▌  | 686 kB 5.1 MB/s eta 0:00:01\r\u001b[K     |██████████████████████████████  | 696 kB 5.1 MB/s eta 0:00:01\r\u001b[K     |██████████████████████████████▍ | 706 kB 5.1 MB/s eta 0:00:01\r\u001b[K     |██████████████████████████████▊ | 716 kB 5.1 MB/s eta 0:00:01\r\u001b[K     |███████████████████████████████▏| 727 kB 5.1 MB/s eta 0:00:01\r\u001b[K     |███████████████████████████████▋| 737 kB 5.1 MB/s eta 0:00:01\r\u001b[K     |████████████████████████████████| 745 kB 5.1 MB/s \n",
            "\u001b[?25h  Building wheel for pyngrok (setup.py) ... \u001b[?25l\u001b[?25hdone\n",
            "\u001b[K     |████████████████████████████████| 10.1 MB 5.1 MB/s \n",
            "\u001b[K     |████████████████████████████████| 76 kB 4.2 MB/s \n",
            "\u001b[K     |████████████████████████████████| 4.3 MB 36.5 MB/s \n",
            "\u001b[K     |████████████████████████████████| 164 kB 54.4 MB/s \n",
            "\u001b[K     |████████████████████████████████| 181 kB 54.9 MB/s \n",
            "\u001b[K     |████████████████████████████████| 111 kB 60.5 MB/s \n",
            "\u001b[K     |████████████████████████████████| 63 kB 1.3 MB/s \n",
            "\u001b[K     |████████████████████████████████| 131 kB 61.1 MB/s \n",
            "\u001b[K     |████████████████████████████████| 428 kB 60.2 MB/s \n",
            "\u001b[K     |████████████████████████████████| 793 kB 61.3 MB/s \n",
            "\u001b[K     |████████████████████████████████| 130 kB 53.7 MB/s \n",
            "\u001b[K     |████████████████████████████████| 381 kB 56.6 MB/s \n",
            "\u001b[?25h  Building wheel for blinker (setup.py) ... \u001b[?25l\u001b[?25hdone\n",
            "  Building wheel for validators (setup.py) ... \u001b[?25l\u001b[?25hdone\n",
            "\u001b[31mERROR: pip's dependency resolver does not currently take into account all the packages that are installed. This behaviour is the source of the following dependency conflicts.\n",
            "jupyter-console 5.2.0 requires prompt-toolkit<2.0.0,>=1.0.0, but you have prompt-toolkit 3.0.29 which is incompatible.\n",
            "google-colab 1.0.0 requires ipykernel~=4.10, but you have ipykernel 6.13.0 which is incompatible.\n",
            "google-colab 1.0.0 requires ipython~=5.5.0, but you have ipython 7.33.0 which is incompatible.\n",
            "google-colab 1.0.0 requires tornado~=5.1.0; python_version >= \"3.0\", but you have tornado 6.1 which is incompatible.\u001b[0m\n",
            "\u001b[K     |████████████████████████████████| 3.6 MB 5.0 MB/s \n",
            "\u001b[?25hCollecting fuzzywuzzy[speedup]\n",
            "  Downloading fuzzywuzzy-0.18.0-py2.py3-none-any.whl (18 kB)\n",
            "Collecting python-levenshtein>=0.12\n",
            "  Downloading python-Levenshtein-0.12.2.tar.gz (50 kB)\n",
            "\u001b[K     |████████████████████████████████| 50 kB 2.7 MB/s \n",
            "\u001b[?25hRequirement already satisfied: setuptools in /usr/local/lib/python3.7/dist-packages (from python-levenshtein>=0.12->fuzzywuzzy[speedup]) (57.4.0)\n",
            "Building wheels for collected packages: python-levenshtein\n",
            "  Building wheel for python-levenshtein (setup.py) ... \u001b[?25l\u001b[?25hdone\n",
            "  Created wheel for python-levenshtein: filename=python_Levenshtein-0.12.2-cp37-cp37m-linux_x86_64.whl size=149868 sha256=9f08e2424f755000c0c8ccac8e67e7d879beb800d184b697268149c1764c3cf5\n",
            "  Stored in directory: /root/.cache/pip/wheels/05/5f/ca/7c4367734892581bb5ff896f15027a932c551080b2abd3e00d\n",
            "Successfully built python-levenshtein\n",
            "Installing collected packages: python-levenshtein, fuzzywuzzy\n",
            "Successfully installed fuzzywuzzy-0.18.0 python-levenshtein-0.12.2\n"
          ]
        }
      ],
      "source": [
        "\n",
        "!pip install -q streamlit\n",
        "!pip install -q streamlit_ace"
      ]
    },
    {
      "cell_type": "code",
      "execution_count": null,
      "outputs": [],
      "source": [
        "!streamlit run app.py & > / dev / null &"
      ],
      "metadata": {
        "pycharm": {
          "name": "#%%\n"
        },
        "id": "M792SOaaGRwc"
      }
    },
    {
      "cell_type": "markdown",
      "source": [
        "# Codigo app.py"
      ],
      "metadata": {
        "collapsed": false,
        "id": "pZ-nrx_SGRwd"
      }
    },
    {
      "cell_type": "code",
      "source": [
        "%%writefile app.py\n",
        "\n",
        "import streamlit as st\n",
        "import requests as req\n",
        "import re\n",
        "from fuzzywuzzy import process\n",
        "from fuzzywuzzy import fuzz\n",
        "from pyngrok import ngrok\n",
        "\n",
        "def main():\n",
        "    html_temp = \"\"\" <div style =\"background-color:blue;padding:13px\">\n",
        "                      <h1 style = \"color:white;text-align:center;\">Ferramentas Comerciais</h1>\n",
        "                    </dic>\n",
        "                \"\"\"\n",
        "\n",
        "    st.markdown(html_temp, unsafe_allow_html = True)\n",
        "\n",
        "    # começo calc tes\n",
        "    tes = 'test'\n",
        "    st.header('Calculadora TES')\n",
        "\n",
        "    opcoes = ['Selecione a Operação',\"Venda Normal\",\"Amostra\",\"Doação\",\"Entrega futura de venda\",\n",
        "              \"Entrega futura Remessa\",\"Demonstração\",\"Saida Troca\",\n",
        "              \"Venda por conta e ordem\",\"Simples remessa\"]\n",
        "\n",
        "    checkbox = st.selectbox('',opcoes)\n",
        "\n",
        "    operacao = numero_operacao(checkbox)\n",
        "    \n",
        "    if operacao != 0:\n",
        "      \n",
        "      if operacao == 9:\n",
        "        tes = 521\n",
        "      elif operacao == 6:\n",
        "        a = st.checkbox('Produto para Demonstração em evento')\n",
        "        if a:\n",
        "          tes = 955\n",
        "        else:\n",
        "          tes = 956\n",
        "      elif operacao == 2:\n",
        "        tes = 527\n",
        "      else:\n",
        "        ipi = st.checkbox(\"Produto Com IPI\",value=False,)\n",
        "\n",
        "        if operacao == 4:\n",
        "          if ipi:\n",
        "            tes = 505\n",
        "          else:\n",
        "            tes = 537\n",
        "        elif operacao == 8:\n",
        "          if ipi:\n",
        "            tes =  522\n",
        "          else:\n",
        "            tes = 540\n",
        "        else:\n",
        "          estado = st.checkbox(\"O cliente é de SP\",value=False,)\n",
        "\n",
        "          cnpj = st.checkbox(\"O cliente é pessoa juridica\",value=False)\n",
        "\n",
        "          contribuinte = False\n",
        "\n",
        "          if cnpj:\n",
        "            contribuinte = st.checkbox(\"O cliente é contribuinte\",value=False)\n",
        "\n",
        "          lado = lado_tabela(estado,contribuinte)\n",
        "\n",
        "          if operacao == 5:\n",
        "            if lado == 'a':\n",
        "                tes = 504\n",
        "            else:\n",
        "                tes = 949\n",
        "          else:\n",
        "            fund = 0\n",
        "            choice = 1\n",
        "            if cnpj:\n",
        "              choice = st.number_input('Digite a origem do Produto:',min_value=1,max_value=6,value=1,step=5)\n",
        "            if estado and cnpj:\n",
        "              options = ('Nenhum dos dois','Fapesp','FFM')\n",
        "              radio = st.radio('Cliente é Fapesp ou FFM?', options, index=0)\n",
        "\n",
        "              fund = fs(radio)\n",
        "\n",
        "            if operacao == 1:\n",
        "              if lado == 'a':\n",
        "                if fund == 1 and choice == 6:\n",
        "                    if ipi:\n",
        "                        tes = 554\n",
        "                    else:\n",
        "                        tes = 533\n",
        "                elif fund == 2:\n",
        "                    if ipi:\n",
        "                        tes = 565\n",
        "                    else:\n",
        "                        tes = 560\n",
        "                elif ipi:\n",
        "                    tes = 501\n",
        "                else:\n",
        "                    tes = 535\n",
        "              else:\n",
        "                if ipi:\n",
        "                    tes =  948\n",
        "                else:\n",
        "                    tes =  947\n",
        "            elif operacao == 3:\n",
        "              if lado == 'a':\n",
        "                  if fs == 2:\n",
        "                      tes =  928\n",
        "                  elif ipi:\n",
        "                      tes =  924\n",
        "                  else:\n",
        "                      tes =  925\n",
        "              else:\n",
        "                  if ipi:\n",
        "                      tes =  951\n",
        "                  else:\n",
        "                      tes =  950\n",
        "            else:\n",
        "              if fs==1 and choice==1:\n",
        "                  tes = 544\n",
        "\n",
        "              if ipi == 0:\n",
        "                  if fs == 2 or (fs==1 and choice==6):\n",
        "                      tes = 550\n",
        "                  tes = 900\n",
        "\n",
        "              else:\n",
        "                  if fs == 2:\n",
        "                      tes = 555\n",
        "                  else:\n",
        "                      tes = 544\n",
        "\n",
        "\n",
        "\n",
        "      if st.button(\"Verificar\"):\n",
        "        b = f'TES: {tes}'\n",
        "        st.info(b)\n",
        "        #final calc tes\n",
        "\n",
        "\n",
        "\n",
        "#inicio funcoes calc tes\n",
        "\n",
        "def fs(radio):\n",
        "  if radio == 'Fapesp':\n",
        "    return 1\n",
        "  elif radio == 'FFM':\n",
        "    return 2\n",
        "  return 0\n",
        "\n",
        "def lado_tabela(sp, contr):\n",
        "    if sp or contr:\n",
        "        return 'a'\n",
        "    return 'b'\n",
        "\n",
        "\n",
        "def numero_operacao(txt):\n",
        "  if txt == 'Selecione a Operação':\n",
        "    x = 0\n",
        "  elif txt == 'Venda Normal':\n",
        "    x = 1\n",
        "  elif txt == 'Amostra':\n",
        "    x = 2\n",
        "  elif txt == 'Doação':\n",
        "    x = 3\n",
        "  elif txt == 'Entrega futura de venda':\n",
        "    x = 4\n",
        "  elif txt == 'Entrega futura Remessa':\n",
        "    x = 5\n",
        "  elif txt == 'Demonstração':\n",
        "    x = 6\n",
        "  elif txt == 'Saida Troca':\n",
        "    x = 7\n",
        "  elif txt == 'Venda por conta e ordem':\n",
        "    x = 8\n",
        "  elif txt == 'Simples remessa':\n",
        "    x = 9\n",
        "  return x\n",
        "  \n",
        "\n",
        "\n",
        "  #final funcoes calc tes\n",
        "\n",
        "\n",
        "\n",
        "\n",
        "\n",
        "\n",
        "\n",
        "\n",
        "\n",
        "if __name__ == '__main__':\n",
        "    main()"
      ],
      "metadata": {
        "id": "GjEKnPwr8bts",
        "outputId": "9780b47c-b17f-4e19-f18a-827a3d1d792a",
        "colab": {
          "base_uri": "https://localhost:8080/"
        }
      },
      "execution_count": 6,
      "outputs": [
        {
          "output_type": "stream",
          "name": "stdout",
          "text": [
            "Overwriting app.py\n"
          ]
        }
      ]
    },
    {
      "cell_type": "code",
      "source": [
        "!streamlit run app.py & npx localtunnel --port 8501"
      ],
      "metadata": {
        "id": "jMLGHpSi8eVD",
        "pycharm": {
          "name": "#%%\n"
        },
        "colab": {
          "base_uri": "https://localhost:8080/"
        },
        "outputId": "cd633c79-567b-419b-80d8-4ec4efc67a93"
      },
      "execution_count": null,
      "outputs": [
        {
          "output_type": "stream",
          "name": "stdout",
          "text": [
            "2022-05-06 13:08:26.576 INFO    numexpr.utils: NumExpr defaulting to 2 threads.\n",
            "\u001b[K\u001b[?25hnpx: installed 22 in 2.826s\n",
            "\u001b[0m\n",
            "\u001b[34m\u001b[1m  You can now view your Streamlit app in your browser.\u001b[0m\n",
            "\u001b[0m\n",
            "\u001b[34m  Network URL: \u001b[0m\u001b[1mhttp://172.28.0.2:8501\u001b[0m\n",
            "\u001b[34m  External URL: \u001b[0m\u001b[1mhttp://34.75.58.93:8501\u001b[0m\n",
            "\u001b[0m\n",
            "your url is: https://legal-lions-double-34-75-58-93.loca.lt\n"
          ]
        }
      ]
    }
  ],
  "metadata": {
    "kernelspec": {
      "display_name": "Python 3",
      "language": "python",
      "name": "python3"
    },
    "language_info": {
      "codemirror_mode": {
        "name": "ipython",
        "version": 2
      },
      "file_extension": ".py",
      "mimetype": "text/x-python",
      "name": "python",
      "nbconvert_exporter": "python",
      "pygments_lexer": "ipython2",
      "version": "2.7.6"
    },
    "colab": {
      "name": "main.ipynb",
      "provenance": [],
      "include_colab_link": true
    }
  },
  "nbformat": 4,
  "nbformat_minor": 0
}