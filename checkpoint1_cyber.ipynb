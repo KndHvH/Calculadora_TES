{
  "nbformat": 4,
  "nbformat_minor": 0,
  "metadata": {
    "colab": {
      "name": "checkpoint1_cyber.ipynb",
      "provenance": [],
      "authorship_tag": "ABX9TyONyBGhzGKi7a79qdtGyccg",
      "include_colab_link": true
    },
    "kernelspec": {
      "name": "python3",
      "display_name": "Python 3"
    },
    "language_info": {
      "name": "python"
    }
  },
  "cells": [
    {
      "cell_type": "markdown",
      "metadata": {
        "id": "view-in-github",
        "colab_type": "text"
      },
      "source": [
        "<a href=\"https://colab.research.google.com/github/KndHvH/Calculadora_TES/blob/main/checkpoint1_cyber.ipynb\" target=\"_parent\"><img src=\"https://colab.research.google.com/assets/colab-badge.svg\" alt=\"Open In Colab\"/></a>"
      ]
    },
    {
      "cell_type": "markdown",
      "source": [
        "#Importando as bibliotecas \n"
      ],
      "metadata": {
        "id": "VnEsdRt0RPwl"
      }
    },
    {
      "cell_type": "code",
      "execution_count": 4,
      "metadata": {
        "id": "t5nLTMbgMmwT"
      },
      "outputs": [],
      "source": [
        "import requests as req"
      ]
    },
    {
      "cell_type": "markdown",
      "source": [
        "#Importando APIs\n",
        "\n",
        "1. Lista de Terroristas INTERPOLL -> lista_interpoll\n",
        "1. Lista de Procurados Argentina -> lista_arg\n",
        "\n",
        "\n"
      ],
      "metadata": {
        "id": "mzW00jEOUc6S"
      }
    },
    {
      "cell_type": "code",
      "source": [
        "lista_interpoll = req.get(\"https://cspinheiro.github.io/bra2.json\")"
      ],
      "metadata": {
        "id": "0VBoVejdRJs1"
      },
      "execution_count": 9,
      "outputs": []
    },
    {
      "cell_type": "code",
      "source": [
        "lista_arg = req.get(\"https://kndhvh.github.io/arg.json\")"
      ],
      "metadata": {
        "id": "UIDp86oHRKB0"
      },
      "execution_count": 6,
      "outputs": []
    },
    {
      "cell_type": "markdown",
      "source": [
        "#Limpando os dados\n"
      ],
      "metadata": {
        "id": "rmo7HhoyUNFP"
      }
    },
    {
      "cell_type": "code",
      "source": [
        "arg = lista_arg.json()['arg']"
      ],
      "metadata": {
        "id": "7ZdRmwPcSP0U"
      },
      "execution_count": 18,
      "outputs": []
    },
    {
      "cell_type": "code",
      "source": [
        "inter = lista_interpoll.json()['bra2']"
      ],
      "metadata": {
        "id": "cFCwiMPyUK5k"
      },
      "execution_count": 23,
      "outputs": []
    },
    {
      "cell_type": "code",
      "source": [
        "arg[0]"
      ],
      "metadata": {
        "id": "KSz1s9nUWUzq"
      },
      "execution_count": null,
      "outputs": []
    },
    {
      "cell_type": "code",
      "source": [
        "arg_raw=[]"
      ],
      "metadata": {
        "id": "On-QKEPgWzyQ"
      },
      "execution_count": 36,
      "outputs": []
    },
    {
      "cell_type": "code",
      "source": [
        ""
      ],
      "metadata": {
        "id": "RoY_E16QXhNe"
      },
      "execution_count": null,
      "outputs": []
    },
    {
      "cell_type": "code",
      "source": [
        "for i in arg:\n",
        "  arg_raw.append(i['arg'])"
      ],
      "metadata": {
        "id": "CjFMhYc_SP4-"
      },
      "execution_count": 37,
      "outputs": []
    },
    {
      "cell_type": "code",
      "source": [
        "arg_raw"
      ],
      "metadata": {
        "id": "dYWA5OwCXRYn"
      },
      "execution_count": null,
      "outputs": []
    },
    {
      "cell_type": "code",
      "source": [
        "#interpoll = lista_arg.json()[]"
      ],
      "metadata": {
        "id": "0PS1TnpnUK1f"
      },
      "execution_count": 38,
      "outputs": []
    }
  ]
}